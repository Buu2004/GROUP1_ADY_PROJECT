{
 "cells": [
  {
   "attachments": {},
   "cell_type": "markdown",
   "metadata": {},
   "source": [
    "READ HTML TO CSV"
   ]
  },
  {
   "cell_type": "code",
   "execution_count": 63,
   "metadata": {},
   "outputs": [],
   "source": [
    "import glob\n",
    "import pandas as pd\n",
    "import os\n",
    "import numpy as np"
   ]
  },
  {
   "cell_type": "code",
   "execution_count": 64,
   "metadata": {},
   "outputs": [],
   "source": [
    "def read_name_file(link,format):\n",
    "    txt_files = glob.glob(os.path.join(link,'*.{0}'.format(format)))\n",
    "    return txt_files"
   ]
  },
  {
   "cell_type": "code",
   "execution_count": 65,
   "metadata": {},
   "outputs": [],
   "source": [
    "def webscraping(link):\n",
    "    file_html = link   \n",
    "    with open(file_html,mode = 'r',encoding='utf-8-sig' ) as file:\n",
    "        html = file.read()\n",
    "    title = []\n",
    "    row = []\n",
    "    column = []\n",
    "    value = []\n",
    "    for i in html.split(\"\\n\"):\n",
    "        if i.startswith('<TITLE>'):\n",
    "            title.append(i.split('>')[1].split('<')[0])\n",
    "        if i.startswith('<TH VALIGN COLSPAN=1>'):\n",
    "            column.append(i.split('>')[1].split('<')[0])\n",
    "        if i.startswith('<TH ALIGN=LEFT VALIGN=TOP>'):\n",
    "            row.append(i.split('>')[1].split('<')[0])\n",
    "        if i.startswith('<TD>'):\n",
    "            value.append(i.split('>')[1].split('<')[0])   \n",
    "    return title,row,column,value\n"
   ]
  },
  {
   "cell_type": "code",
   "execution_count": 66,
   "metadata": {},
   "outputs": [],
   "source": [
    "def to_df(row,column,value):\n",
    "    datas = []\n",
    "    data = []\n",
    "    df = pd.DataFrame(columns=column, index=row)\n",
    "    for i in value:\n",
    "        data.append(i)\n",
    "        if len(data) == len(column):\n",
    "            datas.append(data)\n",
    "            data = []\n",
    "    for i, row_data in enumerate(datas):\n",
    "        df.loc[row[i]] = row_data\n",
    "    return df"
   ]
  },
  {
   "cell_type": "code",
   "execution_count": 67,
   "metadata": {},
   "outputs": [],
   "source": [
    "def save_to_csv(df,title,link):\n",
    "    df.to_csv('{0}{1}.csv'.format(link,str(title)),encoding='utf-8-sig',index=True) \n",
    "    return"
   ]
  },
  {
   "cell_type": "code",
   "execution_count": 68,
   "metadata": {},
   "outputs": [
    {
     "name": "stdout",
     "output_type": "stream",
     "text": [
      "                2010    2011    2012    2013    2014   2015   2016    2017  \\\n",
      "CHỈ SỐ CHUNG  112.63  118.43  103.43  105.25  103.26  99.42  99.39  102.82   \n",
      "\n",
      "                2018    2019   2020    2021    2022  \n",
      "CHỈ SỐ CHUNG  103.09  101.25  99.40  102.91  104.24  \n",
      "                2012    2013    2014    2015    2016    2017    2018    2019  \\\n",
      "CHỈ SỐ CHUNG  103.53  103.05  102.98  101.28  102.38  103.63  103.00  103.06   \n",
      "\n",
      "               2020    2021    2022  \n",
      "CHỈ SỐ CHUNG  99.27  100.95  103.73  \n",
      "         2010    2011   2012    2013    2014   2015    2016   2017    2018  \\\n",
      "Ngành  114.40  131.60  97.87  100.57  104.62  99.72  101.71  99.92  101.98   \n",
      "\n",
      "         2019    2020    2021    2022  \n",
      "Ngành  101.31  108.79  102.12  103.89  \n",
      "                  2010    2011    2012    2013    2014    2015    2016  \\\n",
      "Năm trước =100  109.19  118.58  109.21  106.60  104.09  100.63  102.66   \n",
      "\n",
      "                  2017    2018    2019    2020    2021    2022  \n",
      "Năm trước =100  103.53  103.54  102.79  103.23  101.84  103.15  \n",
      "             2011      2012      2013      2014      2015      2016      2017  \\\n",
      "CẢ NƯỚC  87860.40  88809.30  89759.50  90728.90  91713.30  92695.10  93671.60   \n",
      "\n",
      "             2018      2019      2020      2021      2022  \n",
      "CẢ NƯỚC  94666.00  96484.00  97582.69  98506.19  99461.71  \n",
      "             2010      2011      2012      2013      2014      2015      2016  \\\n",
      "CẢ NƯỚC  50473.50  51594.30  52616.60  53549.30  54040.70  54266.00  54482.80   \n",
      "\n",
      "             2017      2018      2019      2020      2021      2022  \n",
      "CẢ NƯỚC  54819.60  55388.00  55767.40  54842.94  50560.50  51704.88  \n",
      "                                                          2010        2011  \\\n",
      "Tổng sản phẩm trong nước theo giá hiện hành  - ...  2739843.17  3539881.31   \n",
      "Tích luỹ tài sản theo giá hiện hành - Tỷ đồng       1016456.50  1145900.06   \n",
      "Tiêu dùng cuối cùng theo giá hiện hành - Tỷ đồng    1885502.40  2352796.83   \n",
      "Xuất khẩu hàng hoá và dịch vụ theo giá hiện hàn...  1484333.22  2165704.90   \n",
      "Nhập khẩu hàng hoá và dịch vụ theo giá hiện hàn...  1638476.67  2268370.89   \n",
      "\n",
      "                                                          2012        2013  \\\n",
      "Tổng sản phẩm trong nước theo giá hiện hành  - ...  4073762.29  4473655.60   \n",
      "Tích luỹ tài sản theo giá hiện hành - Tỷ đồng       1244912.82  1351621.25   \n",
      "Tiêu dùng cuối cùng theo giá hiện hành - Tỷ đồng    2694746.28  3033143.59   \n",
      "Xuất khẩu hàng hoá và dịch vụ theo giá hiện hàn...  2585776.82  2988421.89   \n",
      "Nhập khẩu hàng hoá và dịch vụ theo giá hiện hàn...  2434080.78  2865193.39   \n",
      "\n",
      "                                                          2014        2015  \\\n",
      "Tổng sản phẩm trong nước theo giá hiện hành  - ...  4937031.68  5191323.73   \n",
      "Tích luỹ tài sản theo giá hiện hành - Tỷ đồng       1495378.85  1666877.77   \n",
      "Tiêu dùng cuối cùng theo giá hiện hành - Tỷ đồng    3324329.03  3633279.88   \n",
      "Xuất khẩu hàng hoá và dịch vụ theo giá hiện hàn...  3436103.74  3785661.31   \n",
      "Nhập khẩu hàng hoá và dịch vụ theo giá hiện hàn...  3249156.60  3737305.40   \n",
      "\n",
      "                                                          2016        2017  \\\n",
      "Tổng sản phẩm trong nước theo giá hiện hành  - ...  5639401.00  6293904.55   \n",
      "Tích luỹ tài sản theo giá hiện hành - Tỷ đồng       1789073.97  2033264.80   \n",
      "Tiêu dùng cuối cùng theo giá hiện hành - Tỷ đồng    3898821.37  4288217.21   \n",
      "Xuất khẩu hàng hoá và dịch vụ theo giá hiện hàn...  4179207.04  5146055.08   \n",
      "Nhập khẩu hàng hoá và dịch vụ theo giá hiện hàn...  4021018.20  4985877.73   \n",
      "\n",
      "                                                          2018        2019  \\\n",
      "Tổng sản phẩm trong nước theo giá hiện hành  - ...  7009042.13  7707200.29   \n",
      "Tích luỹ tài sản theo giá hiện hành - Tỷ đồng       2244260.45  2464759.62   \n",
      "Tiêu dùng cuối cùng theo giá hiện hành - Tỷ đồng    4683636.75  5118113.29   \n",
      "Xuất khẩu hàng hoá và dịch vụ theo giá hiện hàn...  5917275.60  6563265.82   \n",
      "Nhập khẩu hàng hoá và dịch vụ theo giá hiện hàn...  5624089.10  6130817.91   \n",
      "\n",
      "                                                          2020        2021  \\\n",
      "Tổng sản phẩm trong nước theo giá hiện hành  - ...  8044385.73  8479666.50   \n",
      "Tích luỹ tài sản theo giá hiện hành - Tỷ đồng       2567421.08  2837931.42   \n",
      "Tiêu dùng cuối cùng theo giá hiện hành - Tỷ đồng    5264719.70  5515650.50   \n",
      "Xuất khẩu hàng hoá và dịch vụ theo giá hiện hàn...  6787981.23  7907491.92   \n",
      "Nhập khẩu hàng hoá và dịch vụ theo giá hiện hàn...  6344145.66  7901059.55   \n",
      "\n",
      "                                                          2022  \n",
      "Tổng sản phẩm trong nước theo giá hiện hành  - ...  9513327.03  \n",
      "Tích luỹ tài sản theo giá hiện hành - Tỷ đồng       3178082.29  \n",
      "Tiêu dùng cuối cùng theo giá hiện hành - Tỷ đồng    6081072.37  \n",
      "Xuất khẩu hàng hoá và dịch vụ theo giá hiện hàn...  8941230.62  \n",
      "Nhập khẩu hàng hoá và dịch vụ theo giá hiện hàn...  8727870.44  \n",
      "     Nông, lâm nghiệp và thuỷ sản Công nghiệp và xây dựng Dịch vụ  \\\n",
      "2010                        15.38                   33.02   40.63   \n",
      "2011                        16.26                   34.58   38.91   \n",
      "2012                        16.20                   35.86   39.12   \n",
      "2013                        15.22                   35.58   40.54   \n",
      "2014                        14.88                   35.30   40.92   \n",
      "2015                        14.47                   34.27   42.19   \n",
      "2016                        13.82                   34.12   42.85   \n",
      "2017                        12.93                   35.39   42.58   \n",
      "2018                        12.31                   36.54   42.17   \n",
      "2019                        11.78                   36.80   42.47   \n",
      "2020                        12.66                   36.74   41.83   \n",
      "2021                        12.56                   37.48   41.21   \n",
      "2022                        11.88                   38.26   41.33   \n",
      "\n",
      "     Thuế sản phẩm trừ trợ cấp sản phẩm  \n",
      "2010                              10.97  \n",
      "2011                              10.25  \n",
      "2012                               8.82  \n",
      "2013                               8.67  \n",
      "2014                               8.90  \n",
      "2015                               9.07  \n",
      "2016                               9.21  \n",
      "2017                               9.10  \n",
      "2018                               8.98  \n",
      "2019                               8.94  \n",
      "2020                               8.77  \n",
      "2021                               8.75  \n",
      "2022                               8.53  \n",
      "     Tổng số vốn thực hiện (Triệu đô la Mỹ)\n",
      "2010                               11000.30\n",
      "2011                               11000.10\n",
      "2012                               10046.60\n",
      "2013                               11500.00\n",
      "2014                               12500.00\n",
      "2015                               14500.00\n",
      "2016                               15800.00\n",
      "2017                               17500.00\n",
      "2018                               19100.00\n",
      "2019                               20380.00\n",
      "2020                               19980.00\n",
      "2021                               19740.00\n",
      "2022                               22396.00\n"
     ]
    }
   ],
   "source": [
    "a = read_name_file('E:/Learn_python/Project ADY/','html')\n",
    "for i in a:\n",
    "    title,row,column,value = webscraping(i)\n",
    "    for i in range(len(value)):\n",
    "        value[i] = value[i].replace('.','').replace(',','.')           \n",
    "    df = to_df(row,column,value)\n",
    "    title = str(title[0]).replace(\"*\",'')\n",
    "    print(df) \n",
    "    save_to_csv(df,title,f'E:/Learn_python/Project ADY/file csv/')"
   ]
  },
  {
   "attachments": {},
   "cell_type": "markdown",
   "metadata": {},
   "source": [
    "TO DATABASE"
   ]
  },
  {
   "cell_type": "code",
   "execution_count": 69,
   "metadata": {},
   "outputs": [
    {
     "name": "stdout",
     "output_type": "stream",
     "text": [
      "Kết nối đến MySQL thành công!\n"
     ]
    }
   ],
   "source": [
    "import mysql.connector\n",
    "\n",
    "host = \"127.0.0.1\"\n",
    "user = \"root\"\n",
    "password = \"khanhuyen1410\"\n",
    "\n",
    "\n",
    "conn = mysql.connector.connect(\n",
    "    host=host,\n",
    "    user=user,\n",
    "    password=password,\n",
    ")\n",
    "\n",
    "if conn.is_connected():\n",
    "    print(\"Kết nối đến MySQL thành công!\")\n",
    "\n",
    "cur = conn.cursor()\n"
   ]
  },
  {
   "cell_type": "code",
   "execution_count": 70,
   "metadata": {},
   "outputs": [],
   "source": [
    "cur.execute(\"CREATE DATABASE ADYprojet3\")\n",
    "cur.execute(\"USE ADYprojet3\")"
   ]
  },
  {
   "cell_type": "code",
   "execution_count": 71,
   "metadata": {},
   "outputs": [],
   "source": [
    "def read_csv(link):\n",
    "    df = pd.read_csv(link)\n",
    "    return df"
   ]
  },
  {
   "cell_type": "code",
   "execution_count": 72,
   "metadata": {},
   "outputs": [],
   "source": [
    "def create_table(name_table,name_column):\n",
    "    list_column = []\n",
    "    list_column.append(str(name_column[0]).replace(': 0',''))\n",
    "    column = str(name_column[0]).replace(': 0','') + ' NVARCHAR(255),'\n",
    "\n",
    "    for i in name_column[1:]:\n",
    "        try:\n",
    "            b = int(i)\n",
    "            b = 'year_' + str(i)\n",
    "            list_column.append(b)\n",
    "            c = (b + ' FLOAT,')\n",
    "            \n",
    "        except:\n",
    "            a = str(i).replace('(',' ').replace(')',' ').replace(',','_').replace(' ','_')\n",
    "            list_column.append(a)\n",
    "            c = (a + ' FLOAT,')\n",
    "        column += c\n",
    "    table = \"\"\"CREATE TABLE {0}({1});\"\"\".format(name_table,column)\n",
    "    return table.replace(',);',');'),list_column"
   ]
  },
  {
   "cell_type": "code",
   "execution_count": 73,
   "metadata": {},
   "outputs": [],
   "source": [
    "def insert_value(name_table,df,name_column,list_column):\n",
    "    values = []\n",
    "    data_insert = []\n",
    "    list_col = ''\n",
    "    for i in list_column:\n",
    "        list_col += str(i)+','\n",
    "    list_col = list(list_col)\n",
    "    list_col[-1] = ''\n",
    "    list_col = ''.join(list_col)\n",
    "    \n",
    "    for i in name_column:\n",
    "        values.append(list(df[i]))\n",
    "    for i in range(len(values[0])):\n",
    "        values[0][i] = \"N'{0}'\".format(values[0][i])\n",
    "    print(values)\n",
    "    data_np = np.array(values)\n",
    "    transpose = np.transpose(data_np)\n",
    "    for i in transpose:\n",
    "        a = '''INSERT INTO {0} ({1})  VALUES ('''.format(name_table,list_col)\n",
    "        for j in i:\n",
    "            a += (str(j).replace(',','.') + ',')\n",
    "        data_insert.append((a+');').replace(',);',');'))\n",
    "    return data_insert\n",
    "        "
   ]
  },
  {
   "cell_type": "code",
   "execution_count": 74,
   "metadata": {},
   "outputs": [
    {
     "name": "stdout",
     "output_type": "stream",
     "text": [
      "[[\"N'CHỈ SỐ CHUNG'\"], [112.63], [118.43], [103.43], [105.25], [103.26], [99.42], [99.39], [102.82], [103.09], [101.25], [99.4], [102.91], [104.24]]\n",
      "['11000.30', '11000.10', '10046.60', '11500.00', '12500.00', '14500.00', '15800.00', '17500.00', '19100.00', '20380.00', '19980.00', '19740.00', '22396.00']\n",
      "[[\"N'CHỈ SỐ CHUNG'\"], [103.53], [103.05], [102.98], [101.28], [102.38], [103.63], [103.0], [103.06], [99.27], [100.95], [103.73]]\n",
      "['11000.30', '11000.10', '10046.60', '11500.00', '12500.00', '14500.00', '15800.00', '17500.00', '19100.00', '20380.00', '19980.00', '19740.00', '22396.00']\n",
      "[[\"N'Ngành'\"], [114.4], [131.6], [97.87], [100.57], [104.62], [99.72], [101.71], [99.92], [101.98], [101.31], [108.79], [102.12], [103.89]]\n",
      "['11000.30', '11000.10', '10046.60', '11500.00', '12500.00', '14500.00', '15800.00', '17500.00', '19100.00', '20380.00', '19980.00', '19740.00', '22396.00']\n",
      "[[\"N'Năm trước =100'\"], [109.19], [118.58], [109.21], [106.6], [104.09], [100.63], [102.66], [103.53], [103.54], [102.79], [103.23], [101.84], [103.15]]\n",
      "['11000.30', '11000.10', '10046.60', '11500.00', '12500.00', '14500.00', '15800.00', '17500.00', '19100.00', '20380.00', '19980.00', '19740.00', '22396.00']\n",
      "[[\"N'Chỉ số phát triển (WDI)'\"], [18612.91667], [20509.75], [20828], [20933.41667], [21148], [21697.5675], [21935.00083], [22370.08667], [22602.05], [23050.24167], [23208.36833], [23159.78259], [23271.2125]]\n",
      "['11000.30', '11000.10', '10046.60', '11500.00', '12500.00', '14500.00', '15800.00', '17500.00', '19100.00', '20380.00', '19980.00', '19740.00', '22396.00']\n",
      "[[\"N'CẢ NƯỚC'\"], [87860.4], [88809.3], [89759.5], [90728.9], [91713.3], [92695.1], [93671.6], [94666.0], [96484.0], [97582.69], [98506.19], [99461.71]]\n",
      "['11000.30', '11000.10', '10046.60', '11500.00', '12500.00', '14500.00', '15800.00', '17500.00', '19100.00', '20380.00', '19980.00', '19740.00', '22396.00']\n",
      "[[\"N'CẢ NƯỚC'\"], [50473.5], [51594.3], [52616.6], [53549.3], [54040.7], [54266.0], [54482.8], [54819.6], [55388.0], [55767.4], [54842.94], [50560.5], [51704.88]]\n",
      "['11000.30', '11000.10', '10046.60', '11500.00', '12500.00', '14500.00', '15800.00', '17500.00', '19100.00', '20380.00', '19980.00', '19740.00', '22396.00']\n",
      "[[\"N'Tổng sản phẩm trong nước theo giá hiện hành  - Tỷ đồng'\", \"N'Tích luỹ tài sản theo giá hiện hành - Tỷ đồng'\", \"N'Tiêu dùng cuối cùng theo giá hiện hành - Tỷ đồng'\", \"N'Xuất khẩu hàng hoá và dịch vụ theo giá hiện hành - Tỷ đồng'\", \"N'Nhập khẩu hàng hoá và dịch vụ theo giá hiện hành - Tỷ đồng'\"], [2739843.17, 1016456.5, 1885502.4, 1484333.22, 1638476.67], [3539881.31, 1145900.06, 2352796.83, 2165704.9, 2268370.89], [4073762.29, 1244912.82, 2694746.28, 2585776.82, 2434080.78], [4473655.6, 1351621.25, 3033143.59, 2988421.89, 2865193.39], [4937031.68, 1495378.85, 3324329.03, 3436103.74, 3249156.6], [5191323.73, 1666877.77, 3633279.88, 3785661.31, 3737305.4], [5639401.0, 1789073.97, 3898821.37, 4179207.04, 4021018.2], [6293904.55, 2033264.8, 4288217.21, 5146055.08, 4985877.73], [7009042.13, 2244260.45, 4683636.75, 5917275.6, 5624089.1], [7707200.29, 2464759.62, 5118113.29, 6563265.82, 6130817.91], [8044385.73, 2567421.08, 5264719.7, 6787981.23, 6344145.66], [8479666.5, 2837931.42, 5515650.5, 7907491.92, 7901059.55], [9513327.03, 3178082.29, 6081072.37, 8941230.62, 8727870.44]]\n",
      "['11000.30', '11000.10', '10046.60', '11500.00', '12500.00', '14500.00', '15800.00', '17500.00', '19100.00', '20380.00', '19980.00', '19740.00', '22396.00']\n",
      "[[\"N'2010'\", \"N'2011'\", \"N'2012'\", \"N'2013'\", \"N'2014'\", \"N'2015'\", \"N'2016'\", \"N'2017'\", \"N'2018'\", \"N'2019'\", \"N'2020'\", \"N'2021'\", \"N'2022'\"], [15.38, 16.26, 16.2, 15.22, 14.88, 14.47, 13.82, 12.93, 12.31, 11.78, 12.66, 12.56, 11.88], [33.02, 34.58, 35.86, 35.58, 35.3, 34.27, 34.12, 35.39, 36.54, 36.8, 36.74, 37.48, 38.26], [40.63, 38.91, 39.12, 40.54, 40.92, 42.19, 42.85, 42.58, 42.17, 42.47, 41.83, 41.21, 41.33], [10.97, 10.25, 8.82, 8.67, 8.9, 9.07, 9.21, 9.1, 8.98, 8.94, 8.77, 8.75, 8.53]]\n",
      "['11000.30', '11000.10', '10046.60', '11500.00', '12500.00', '14500.00', '15800.00', '17500.00', '19100.00', '20380.00', '19980.00', '19740.00', '22396.00']\n",
      "[[\"N'Tổng thiệt hại(tỷ đồng)'\"], [16062], [13507], [16000], [27853], [2828], [8114], [39726], [60000], [20000], [6863], [39962], [5200], [19500]]\n",
      "['11000.30', '11000.10', '10046.60', '11500.00', '12500.00', '14500.00', '15800.00', '17500.00', '19100.00', '20380.00', '19980.00', '19740.00', '22396.00']\n",
      "[[\"N'2010'\", \"N'2011'\", \"N'2012'\", \"N'2013'\", \"N'2014'\", \"N'2015'\", \"N'2016'\", \"N'2017'\", \"N'2018'\", \"N'2019'\", \"N'2020'\", \"N'2021'\", \"N'2022'\"], [11000.3, 11000.1, 10046.6, 11500.0, 12500.0, 14500.0, 15800.0, 17500.0, 19100.0, 20380.0, 19980.0, 19740.0, 22396.0]]\n",
      "['11000.30', '11000.10', '10046.60', '11500.00', '12500.00', '14500.00', '15800.00', '17500.00', '19100.00', '20380.00', '19980.00', '19740.00', '22396.00']\n"
     ]
    }
   ],
   "source": [
    "a = read_name_file('E:/Learn_python/Project ADY/file csv','csv')\n",
    "count = 0\n",
    "for i in a:\n",
    "    df = read_csv(i)\n",
    "    num_col= df.shape[1]\n",
    "    name_column = list(df.iloc[0:0,0:(num_col)])\n",
    "    table= create_table('a' + str(count),name_column)\n",
    "    cur.execute(table[0])\n",
    "    values = insert_value('a' +str(count),df,name_column,table[1])\n",
    "    print(value)\n",
    "    for i in values:\n",
    "        cur.execute(i)\n",
    "    count += 1"
   ]
  }
 ],
 "metadata": {
  "kernelspec": {
   "display_name": "Python 3",
   "language": "python",
   "name": "python3"
  },
  "language_info": {
   "codemirror_mode": {
    "name": "ipython",
    "version": 3
   },
   "file_extension": ".py",
   "mimetype": "text/x-python",
   "name": "python",
   "nbconvert_exporter": "python",
   "pygments_lexer": "ipython3",
   "version": "3.11.6"
  },
  "orig_nbformat": 4
 },
 "nbformat": 4,
 "nbformat_minor": 2
}
