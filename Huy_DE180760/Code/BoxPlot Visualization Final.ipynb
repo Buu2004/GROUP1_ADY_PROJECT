{
 "cells": [
  {
   "attachments": {},
   "cell_type": "markdown",
   "metadata": {},
   "source": [
    "Getting started\n"
   ]
  },
  {
   "cell_type": "code",
   "execution_count": null,
   "metadata": {},
   "outputs": [],
   "source": [
    "import pandas as pd\n",
    "import scipy.stats as stats\n",
    "import matplotlib.pyplot as plt\n",
    "import numpy as np\n",
    "\n"
   ]
  },
  {
   "cell_type": "code",
   "execution_count": null,
   "metadata": {},
   "outputs": [],
   "source": [
    "name_file = 'Một số chỉ tiêu chủ yếu về tài khoản quốc gia chia theo Chỉ tiêu và Năm.csv'\n",
    "a = pd.read_csv(name_file)\n",
    "df = pd.DataFrame(a)\n",
    "df"
   ]
  },
  {
   "cell_type": "code",
   "execution_count": null,
   "metadata": {},
   "outputs": [],
   "source": [
    "count_col = len(df.columns)\n",
    "print('Num_col: ',count_col)\n",
    "count_row = len(df)\n",
    "print('Num_row: ',count_row)"
   ]
  },
  {
   "cell_type": "code",
   "execution_count": null,
   "metadata": {},
   "outputs": [],
   "source": [
    "if count_row > 1:\n",
    "    for i in range(1,count_col):\n",
    "        print('Mean of '+df.columns[i]+' : ', a[df.columns[i]].mean())\n",
    "        print('Median of '+df.columns[i]+' : ', a[df.columns[i]].median())\n",
    "        print('Std.deviation of '+df.columns[i]+' : ', a[df.columns[i]].std())\n",
    "        IQR=a[df.columns[i]].quantile(0.75) - a[df.columns[i]].quantile(0.25)\n",
    "        print('IQR of '+df.columns[i]+' : ', IQR)\n",
    "        print('Min: ', a[df.columns[i]].quantile(0.25) - 1.5*IQR)\n",
    "        print('Max: ', a[df.columns[i]].quantile(0.75) + 1.5*IQR)\n",
    "        print('\\n')\n",
    "elif  count_row == 1:\n",
    "    numeric_values = pd.to_numeric(df.iloc[0], errors='coerce')\n",
    "    mean_of_numeric_values = numeric_values.mean()\n",
    "    median_of_numeric_values = numeric_values.median()\n",
    "    Std_of_numeric_values = numeric_values.std()\n",
    "    Q1_of_numeric_values = numeric_values.quantile(0.25)\n",
    "    Q3_of_numeric_values = numeric_values.quantile(0.75)\n",
    "    IQR_of_numeric_values = Q3_of_numeric_values-Q1_of_numeric_values\n",
    "    Max= Q3_of_numeric_values + 1.5*IQR_of_numeric_values\n",
    "    Min= Q1_of_numeric_values - 1.5*IQR_of_numeric_values\n",
    "    print ('Mean: ',mean_of_numeric_values)\n",
    "    print ('Median: ',median_of_numeric_values)\n",
    "    print ('Standard deviation: ',Std_of_numeric_values)\n",
    "    print ('IQR: ',IQR_of_numeric_values)\n",
    "    print ('Max: ',Max)\n",
    "    print ('Min: ',Min)\n",
    "\n",
    "    "
   ]
  },
  {
   "cell_type": "code",
   "execution_count": null,
   "metadata": {},
   "outputs": [],
   "source": [
    "\n",
    "if count_row >1 : \n",
    "    plt.figure(figsize=(15,7))\n",
    "    for i in range (1,count_col):\n",
    "        plt.subplot(3,2,i)\n",
    "        ax=(a[df.columns[i]]).plot.box()\n",
    "    plt.savefig(f'C:\\\\Users\\\\PC\\\\Pictures\\\\New\\\\{name_file.replace(\".csv\", \".png\")}')\n",
    "elif count_row == 1 :\n",
    "    plt.figure(figsize=(15,7))\n",
    "    ax = numeric_values.plot.box()\n",
    "    ax.set_xlabel(df.iloc[0,0])\n",
    "    plt.savefig(f'C:\\\\Users\\\\PC\\\\Pictures\\\\New\\\\{name_file.replace(\".csv\", \".png\")}')\n"
   ]
  },
  {
   "cell_type": "code",
   "execution_count": null,
   "metadata": {},
   "outputs": [],
   "source": []
  }
 ],
 "metadata": {
  "kernelspec": {
   "display_name": "Python 3",
   "language": "python",
   "name": "python3"
  },
  "language_info": {
   "codemirror_mode": {
    "name": "ipython",
    "version": 3
   },
   "file_extension": ".py",
   "mimetype": "text/x-python",
   "name": "python",
   "nbconvert_exporter": "python",
   "pygments_lexer": "ipython3",
   "version": "3.10.7"
  },
  "orig_nbformat": 4,
  "vscode": {
   "interpreter": {
    "hash": "e593ac106456af50ce7af38f9671c411b49d6cd90f9b885e167f0f594e09038c"
   }
  }
 },
 "nbformat": 4,
 "nbformat_minor": 2
}
