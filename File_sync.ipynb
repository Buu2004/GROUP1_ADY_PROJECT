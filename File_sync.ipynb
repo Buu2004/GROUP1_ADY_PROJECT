{
 "cells": [
  {
   "cell_type": "code",
   "execution_count": 60,
   "metadata": {},
   "outputs": [],
   "source": [
    "import os\n",
    "import glob\n",
    "import pandas as pd\n",
    "import numpy as np\n"
   ]
  },
  {
   "cell_type": "code",
   "execution_count": 61,
   "metadata": {},
   "outputs": [],
   "source": [
    "data_path = 'D:/not sure but it is the Fucking BUGggg!!/DATA FOR ADY/'"
   ]
  },
  {
   "cell_type": "code",
   "execution_count": 62,
   "metadata": {},
   "outputs": [
    {
     "data": {
      "text/plain": [
       "'D:/not sure but it is the Fucking BUGggg!!/DATA FOR ADY\\\\tổng thiệt hại.csv'"
      ]
     },
     "execution_count": 62,
     "metadata": {},
     "output_type": "execute_result"
    }
   ],
   "source": [
    "def read_name_file(link,format):\n",
    "    txt_files = glob.glob(os.path.join(link,'*.{0}'.format(format)))\n",
    "    return txt_files\n",
    "paths = read_name_file('D:/not sure but it is the Fucking BUGggg!!/DATA FOR ADY/','csv')\n",
    "paths[-2]"
   ]
  },
  {
   "cell_type": "code",
   "execution_count": 63,
   "metadata": {},
   "outputs": [
    {
     "data": {
      "text/plain": [
       "'tổng thiệt hại'"
      ]
     },
     "execution_count": 63,
     "metadata": {},
     "output_type": "execute_result"
    }
   ],
   "source": [
    "titles = []\n",
    "for path in paths:\n",
    "    file = path.split('\\\\')\n",
    "    tittle = file[-1].replace('.csv','')\n",
    "    titles.append(tittle)\n",
    "titles[-2]"
   ]
  },
  {
   "cell_type": "code",
   "execution_count": 64,
   "metadata": {},
   "outputs": [],
   "source": [
    "# df_change3 = pd.read_csv(paths[6])\n",
    "# text = df_change3.T.iloc[0].tolist()\n",
    "# txt = []\n",
    "# for i in text:\n",
    "#     c = i.split(' - ')\n",
    "#     txt.append(c[0])\n",
    "# df_change3\n"
   ]
  },
  {
   "cell_type": "code",
   "execution_count": 65,
   "metadata": {},
   "outputs": [],
   "source": [
    "# df_change = pd.read_csv(paths[-1])\n",
    "# ind = df_change.columns.tolist()[1:]\n",
    "# df_change = df_change.drop('Unnamed: 0', axis=1)\n",
    "# df_change = df_change.T\n",
    "# df_change.columns = [2010,2011,2012,2013,2014,2015,2016,2017,2018,2019,2020,2021,2022]\n",
    "# df_change.index = ind\n",
    "# df_change.to_csv('D:/not sure but it is the Fucking BUGggg!!/DATA FOR ADY/%s.csv'%titles[-1])\n",
    "# df_change"
   ]
  },
  {
   "cell_type": "code",
   "execution_count": 66,
   "metadata": {},
   "outputs": [],
   "source": [
    "# df_change2 = pd.read_csv(paths[7])\n",
    "# ind = df_change2.columns.tolist()[1:]\n",
    "# df_change2 = df_change2.drop('Unnamed: 0', axis=1)\n",
    "# df_change2 = df_change2.T\n",
    "# df_change2.columns = [2010,2011,2012,2013,2014,2015,2016,2017,2018,2019,2020,2021,2022]\n",
    "# df_change2.index = ind\n",
    "# df_change2.to_csv('D:/not sure but it is the Fucking BUGggg!!/DATA FOR ADY/%s.csv'%titles[7])\n",
    "# df_change2\n"
   ]
  },
  {
   "cell_type": "code",
   "execution_count": 67,
   "metadata": {},
   "outputs": [],
   "source": [
    "# for i in range(len(paths[:6])):\n",
    "#     dfi = pd.read_csv(paths[i])\n",
    "#     ind = dfi['Unnamed: 0'].tolist()\n",
    "#     dfi = dfi.drop('Unnamed: 0', axis=1)\n",
    "#     dfi.index = [titles[i]]\n",
    "#     dfi.to_csv('D:/not sure but it is the Fucking BUGggg!!/DATA FOR ADY/%s.csv'%titles[i])\n"
   ]
  },
  {
   "cell_type": "code",
   "execution_count": 68,
   "metadata": {},
   "outputs": [
    {
     "data": {
      "text/html": [
       "<div>\n",
       "<style scoped>\n",
       "    .dataframe tbody tr th:only-of-type {\n",
       "        vertical-align: middle;\n",
       "    }\n",
       "\n",
       "    .dataframe tbody tr th {\n",
       "        vertical-align: top;\n",
       "    }\n",
       "\n",
       "    .dataframe thead th {\n",
       "        text-align: right;\n",
       "    }\n",
       "</style>\n",
       "<table border=\"1\" class=\"dataframe\">\n",
       "  <thead>\n",
       "    <tr style=\"text-align: right;\">\n",
       "      <th></th>\n",
       "      <th>Unnamed: 0</th>\n",
       "      <th>2010</th>\n",
       "      <th>2011</th>\n",
       "      <th>2012</th>\n",
       "      <th>2013</th>\n",
       "      <th>2014</th>\n",
       "      <th>2015</th>\n",
       "      <th>2016</th>\n",
       "      <th>2017</th>\n",
       "      <th>2018</th>\n",
       "      <th>2019</th>\n",
       "      <th>2020</th>\n",
       "      <th>2021</th>\n",
       "      <th>2022</th>\n",
       "    </tr>\n",
       "  </thead>\n",
       "  <tbody>\n",
       "    <tr>\n",
       "      <th>0</th>\n",
       "      <td>Tổng thiệt hại(tỷ đồng)</td>\n",
       "      <td>16,062</td>\n",
       "      <td>13,507</td>\n",
       "      <td>16,000</td>\n",
       "      <td>27,853</td>\n",
       "      <td>2,828</td>\n",
       "      <td>8,114</td>\n",
       "      <td>39,726</td>\n",
       "      <td>60,000</td>\n",
       "      <td>20,000</td>\n",
       "      <td>6,863</td>\n",
       "      <td>39962</td>\n",
       "      <td>5,200</td>\n",
       "      <td>19,500</td>\n",
       "    </tr>\n",
       "  </tbody>\n",
       "</table>\n",
       "</div>"
      ],
      "text/plain": [
       "                Unnamed: 0    2010    2011    2012    2013   2014   2015  \\\n",
       "0  Tổng thiệt hại(tỷ đồng)  16,062  13,507  16,000  27,853  2,828  8,114   \n",
       "\n",
       "     2016     2017    2018   2019   2020   2021    2022  \n",
       "0  39,726   60,000  20,000  6,863  39962  5,200  19,500  "
      ]
     },
     "execution_count": 68,
     "metadata": {},
     "output_type": "execute_result"
    }
   ],
   "source": [
    "data_change4 = pd.read_csv(paths[-2])\n",
    "data_change4"
   ]
  },
  {
   "cell_type": "code",
   "execution_count": 69,
   "metadata": {},
   "outputs": [
    {
     "data": {
      "text/html": [
       "<div>\n",
       "<style scoped>\n",
       "    .dataframe tbody tr th:only-of-type {\n",
       "        vertical-align: middle;\n",
       "    }\n",
       "\n",
       "    .dataframe tbody tr th {\n",
       "        vertical-align: top;\n",
       "    }\n",
       "\n",
       "    .dataframe thead th {\n",
       "        text-align: right;\n",
       "    }\n",
       "</style>\n",
       "<table border=\"1\" class=\"dataframe\">\n",
       "  <thead>\n",
       "    <tr style=\"text-align: right;\">\n",
       "      <th></th>\n",
       "      <th>2010</th>\n",
       "      <th>2011</th>\n",
       "      <th>2012</th>\n",
       "      <th>2013</th>\n",
       "      <th>2014</th>\n",
       "      <th>2015</th>\n",
       "      <th>2016</th>\n",
       "      <th>2017</th>\n",
       "      <th>2018</th>\n",
       "      <th>2019</th>\n",
       "      <th>2020</th>\n",
       "      <th>2021</th>\n",
       "      <th>2022</th>\n",
       "    </tr>\n",
       "  </thead>\n",
       "  <tbody>\n",
       "    <tr>\n",
       "      <th>tổng thiệt hại</th>\n",
       "      <td>16062</td>\n",
       "      <td>13507</td>\n",
       "      <td>16000</td>\n",
       "      <td>27853</td>\n",
       "      <td>2828</td>\n",
       "      <td>8114</td>\n",
       "      <td>39726</td>\n",
       "      <td>60000</td>\n",
       "      <td>20000</td>\n",
       "      <td>6863</td>\n",
       "      <td>39962</td>\n",
       "      <td>5200</td>\n",
       "      <td>19500</td>\n",
       "    </tr>\n",
       "  </tbody>\n",
       "</table>\n",
       "</div>"
      ],
      "text/plain": [
       "                 2010   2011   2012   2013  2014  2015   2016    2017   2018  \\\n",
       "tổng thiệt hại  16062  13507  16000  27853  2828  8114  39726   60000  20000   \n",
       "\n",
       "                2019   2020  2021   2022  \n",
       "tổng thiệt hại  6863  39962  5200  19500  "
      ]
     },
     "execution_count": 69,
     "metadata": {},
     "output_type": "execute_result"
    }
   ],
   "source": [
    "data_change4 = pd.read_csv(paths[-2])\n",
    "data_change4_col = data_change4.columns.tolist()\n",
    "for i in data_change4:\n",
    "    c = str(data_change4[i].to_list()[0]).replace(',','')\n",
    "    data_change4[i] = c\n",
    "\n",
    "\n",
    "data_change4 = data_change4.drop('Unnamed: 0', axis=1)\n",
    "data_change4.index = [str(titles[-2])]\n",
    "\n",
    "data_change4"
   ]
  },
  {
   "cell_type": "code",
   "execution_count": 70,
   "metadata": {},
   "outputs": [],
   "source": [
    "data_change4.to_csv('D:/not sure but it is the Fucking BUGggg!!/DATA FOR ADY/%s.csv'%titles[-2])"
   ]
  }
 ],
 "metadata": {
  "kernelspec": {
   "display_name": "Python 3",
   "language": "python",
   "name": "python3"
  },
  "language_info": {
   "codemirror_mode": {
    "name": "ipython",
    "version": 3
   },
   "file_extension": ".py",
   "mimetype": "text/x-python",
   "name": "python",
   "nbconvert_exporter": "python",
   "pygments_lexer": "ipython3",
   "version": "3.10.7"
  }
 },
 "nbformat": 4,
 "nbformat_minor": 2
}
